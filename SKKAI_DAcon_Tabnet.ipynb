{
  "cells": [
    {
      "cell_type": "markdown",
      "metadata": {
        "id": "pPZvJQoQMoWZ"
      },
      "source": [
        "# Import"
      ]
    },
    {
      "cell_type": "code",
      "execution_count": 12,
      "metadata": {
        "colab": {
          "base_uri": "https://localhost:8080/"
        },
        "id": "2MyMgaiCMoWc",
        "outputId": "c1ffb647-dfea-4650-defa-1d72655401f2"
      },
      "outputs": [
        {
          "output_type": "stream",
          "name": "stdout",
          "text": [
            "Requirement already satisfied: pytorch-tabnet in /usr/local/lib/python3.11/dist-packages (4.1.0)\n",
            "Requirement already satisfied: numpy>=1.17 in /usr/local/lib/python3.11/dist-packages (from pytorch-tabnet) (2.0.2)\n",
            "Requirement already satisfied: scikit_learn>0.21 in /usr/local/lib/python3.11/dist-packages (from pytorch-tabnet) (1.6.1)\n",
            "Requirement already satisfied: scipy>1.4 in /usr/local/lib/python3.11/dist-packages (from pytorch-tabnet) (1.15.3)\n",
            "Requirement already satisfied: torch>=1.3 in /usr/local/lib/python3.11/dist-packages (from pytorch-tabnet) (2.6.0+cu124)\n",
            "Requirement already satisfied: tqdm>=4.36 in /usr/local/lib/python3.11/dist-packages (from pytorch-tabnet) (4.67.1)\n",
            "Requirement already satisfied: joblib>=1.2.0 in /usr/local/lib/python3.11/dist-packages (from scikit_learn>0.21->pytorch-tabnet) (1.5.0)\n",
            "Requirement already satisfied: threadpoolctl>=3.1.0 in /usr/local/lib/python3.11/dist-packages (from scikit_learn>0.21->pytorch-tabnet) (3.6.0)\n",
            "Requirement already satisfied: filelock in /usr/local/lib/python3.11/dist-packages (from torch>=1.3->pytorch-tabnet) (3.18.0)\n",
            "Requirement already satisfied: typing-extensions>=4.10.0 in /usr/local/lib/python3.11/dist-packages (from torch>=1.3->pytorch-tabnet) (4.13.2)\n",
            "Requirement already satisfied: networkx in /usr/local/lib/python3.11/dist-packages (from torch>=1.3->pytorch-tabnet) (3.4.2)\n",
            "Requirement already satisfied: jinja2 in /usr/local/lib/python3.11/dist-packages (from torch>=1.3->pytorch-tabnet) (3.1.6)\n",
            "Requirement already satisfied: fsspec in /usr/local/lib/python3.11/dist-packages (from torch>=1.3->pytorch-tabnet) (2025.3.2)\n",
            "Requirement already satisfied: nvidia-cuda-nvrtc-cu12==12.4.127 in /usr/local/lib/python3.11/dist-packages (from torch>=1.3->pytorch-tabnet) (12.4.127)\n",
            "Requirement already satisfied: nvidia-cuda-runtime-cu12==12.4.127 in /usr/local/lib/python3.11/dist-packages (from torch>=1.3->pytorch-tabnet) (12.4.127)\n",
            "Requirement already satisfied: nvidia-cuda-cupti-cu12==12.4.127 in /usr/local/lib/python3.11/dist-packages (from torch>=1.3->pytorch-tabnet) (12.4.127)\n",
            "Requirement already satisfied: nvidia-cudnn-cu12==9.1.0.70 in /usr/local/lib/python3.11/dist-packages (from torch>=1.3->pytorch-tabnet) (9.1.0.70)\n",
            "Requirement already satisfied: nvidia-cublas-cu12==12.4.5.8 in /usr/local/lib/python3.11/dist-packages (from torch>=1.3->pytorch-tabnet) (12.4.5.8)\n",
            "Requirement already satisfied: nvidia-cufft-cu12==11.2.1.3 in /usr/local/lib/python3.11/dist-packages (from torch>=1.3->pytorch-tabnet) (11.2.1.3)\n",
            "Requirement already satisfied: nvidia-curand-cu12==10.3.5.147 in /usr/local/lib/python3.11/dist-packages (from torch>=1.3->pytorch-tabnet) (10.3.5.147)\n",
            "Requirement already satisfied: nvidia-cusolver-cu12==11.6.1.9 in /usr/local/lib/python3.11/dist-packages (from torch>=1.3->pytorch-tabnet) (11.6.1.9)\n",
            "Requirement already satisfied: nvidia-cusparse-cu12==12.3.1.170 in /usr/local/lib/python3.11/dist-packages (from torch>=1.3->pytorch-tabnet) (12.3.1.170)\n",
            "Requirement already satisfied: nvidia-cusparselt-cu12==0.6.2 in /usr/local/lib/python3.11/dist-packages (from torch>=1.3->pytorch-tabnet) (0.6.2)\n",
            "Requirement already satisfied: nvidia-nccl-cu12==2.21.5 in /usr/local/lib/python3.11/dist-packages (from torch>=1.3->pytorch-tabnet) (2.21.5)\n",
            "Requirement already satisfied: nvidia-nvtx-cu12==12.4.127 in /usr/local/lib/python3.11/dist-packages (from torch>=1.3->pytorch-tabnet) (12.4.127)\n",
            "Requirement already satisfied: nvidia-nvjitlink-cu12==12.4.127 in /usr/local/lib/python3.11/dist-packages (from torch>=1.3->pytorch-tabnet) (12.4.127)\n",
            "Requirement already satisfied: triton==3.2.0 in /usr/local/lib/python3.11/dist-packages (from torch>=1.3->pytorch-tabnet) (3.2.0)\n",
            "Requirement already satisfied: sympy==1.13.1 in /usr/local/lib/python3.11/dist-packages (from torch>=1.3->pytorch-tabnet) (1.13.1)\n",
            "Requirement already satisfied: mpmath<1.4,>=1.1.0 in /usr/local/lib/python3.11/dist-packages (from sympy==1.13.1->torch>=1.3->pytorch-tabnet) (1.3.0)\n",
            "Requirement already satisfied: MarkupSafe>=2.0 in /usr/local/lib/python3.11/dist-packages (from jinja2->torch>=1.3->pytorch-tabnet) (3.0.2)\n"
          ]
        }
      ],
      "source": [
        "%pip install pytorch-tabnet\n",
        "\n",
        "import pandas as pd\n",
        "import numpy as np\n",
        "\n",
        "from sklearn.preprocessing import LabelEncoder\n",
        "from sklearn.model_selection import KFold\n",
        "from sklearn.metrics import mean_absolute_error, mean_squared_error, r2_score\n",
        "\n",
        "import torch\n",
        "from pytorch_tabnet.pretraining import TabNetPretrainer\n",
        "from pytorch_tabnet.tab_model import TabNetRegressor"
      ]
    },
    {
      "cell_type": "markdown",
      "metadata": {
        "id": "TVy54IhPMoWd"
      },
      "source": [
        "# Data Load"
      ]
    },
    {
      "cell_type": "code",
      "execution_count": 3,
      "metadata": {
        "id": "6zARz0ANMoWd"
      },
      "outputs": [],
      "source": [
        "train = pd.read_csv('train.csv')\n",
        "test = pd.read_csv('test.csv')\n",
        "sample_submission = pd.read_csv('sample_submission.csv')"
      ]
    },
    {
      "cell_type": "markdown",
      "metadata": {
        "id": "Jiy7jmQcMoWd"
      },
      "source": [
        "# Data Preprocessing"
      ]
    },
    {
      "cell_type": "code",
      "execution_count": 4,
      "metadata": {
        "id": "TXoiIHNdMoWd"
      },
      "outputs": [],
      "source": [
        "#특성과 타겟 변수 분리\n",
        "train = train.drop(columns=['ID'], axis = 1)\n",
        "test = test.drop(columns=['ID'], axis = 1)"
      ]
    },
    {
      "cell_type": "code",
      "execution_count": 5,
      "metadata": {
        "colab": {
          "base_uri": "https://localhost:8080/"
        },
        "id": "0l68mnDJMoWe",
        "outputId": "89cca19c-5439-475b-a86f-2f981c288471"
      },
      "outputs": [
        {
          "output_type": "stream",
          "name": "stderr",
          "text": [
            "<ipython-input-5-d9229aa851d1>:15: FutureWarning: Downcasting object dtype arrays on .fillna, .ffill, .bfill is deprecated and will change in a future version. Call result.infer_objects(copy=False) instead. To opt-in to the future behavior, set `pd.set_option('future.no_silent_downcasting', True)`\n",
            "  train[feature] = train[feature].fillna('Missing')\n",
            "<ipython-input-5-d9229aa851d1>:16: FutureWarning: Downcasting object dtype arrays on .fillna, .ffill, .bfill is deprecated and will change in a future version. Call result.infer_objects(copy=False) instead. To opt-in to the future behavior, set `pd.set_option('future.no_silent_downcasting', True)`\n",
            "  test[feature] = test[feature].fillna('Missing')\n"
          ]
        }
      ],
      "source": [
        "# 설립연도 타입 변환 (int -> object)\n",
        "train['설립연도'] =train['설립연도'].astype('object')\n",
        "test['설립연도'] =test['설립연도'].astype('object')\n",
        "\n",
        "category_features = ['설립연도','국가','분야','투자단계','기업가치(백억원)']\n",
        "numeric_features = ['직원 수','고객수(백만명)','총 투자금(억원)','연매출(억원)','SNS 팔로워 수(백만명)']\n",
        "bool_features = ['인수여부','상장여부']\n",
        "\n",
        "# LabelEncoder 객체를 각 범주형 feature별로 따로 저장하여 사용\n",
        "encoders = {}\n",
        "\n",
        "# 범주형 데이터를 encoding\n",
        "for feature in category_features:\n",
        "    encoders[feature] = LabelEncoder()\n",
        "    train[feature] = train[feature].fillna('Missing')\n",
        "    test[feature] = test[feature].fillna('Missing')\n",
        "    train[feature] = encoders[feature].fit_transform(train[feature])\n",
        "    test[feature] = encoders[feature].transform(test[feature])\n",
        "\n",
        "# 불리언 값을 0과 1로 변환 ('Yes' → 1, 'No' → 0 으로 변환)\n",
        "bool_map = {'Yes': 1, 'No': 0}\n",
        "\n",
        "for feature in bool_features:\n",
        "    train[feature] = train[feature].map(bool_map)\n",
        "    test[feature] = test[feature].map(bool_map)\n",
        "\n",
        "# 수치형 변수 결측치를 평균값으로 대체\n",
        "for feature in numeric_features:\n",
        "    mean_value = train[feature].mean()\n",
        "    train[feature] = train[feature].fillna(mean_value)\n",
        "    test[feature] = test[feature].fillna(mean_value)\n",
        "\n",
        "# TabNet용 범주형 변수 인덱스(cat_idxs) 및 차원(cat_dims) 설정\n",
        "features = [col for col in train.columns if col != '성공확률']\n",
        "cat_idxs = [features.index(col) for col in category_features]\n",
        "cat_dims = [train[col].max() + 1 for col in category_features]"
      ]
    },
    {
      "cell_type": "code",
      "source": [
        "# [1] 기업가치 문자열 처리 함수\n",
        "def parse_value_range(value):\n",
        "    try:\n",
        "        return float(value)\n",
        "    except:\n",
        "        if isinstance(value, str) and '이상' in value:\n",
        "            return float(value.replace('이상', '').strip())\n",
        "        return np.nan\n",
        "\n",
        "# [2] 변수 정의\n",
        "category_features = ['설립연도','국가','분야','투자단계','기업가치(백억원)']\n",
        "numeric_features = ['직원 수','고객수(백만명)','총 투자금(억원)','연매출(억원)','SNS 팔로워 수(백만명)']\n",
        "bool_features = ['인수여부','상장여부']\n",
        "\n",
        "# [3] 범주형 처리\n",
        "train['설립연도'] = train['설립연도'].astype('object')\n",
        "test['설립연도'] = test['설립연도'].astype('object')\n",
        "\n",
        "encoders = {}\n",
        "for feature in category_features:\n",
        "    encoders[feature] = LabelEncoder()\n",
        "    train[feature] = train[feature].fillna('Missing').astype(str)\n",
        "    test[feature] = test[feature].fillna('Missing').astype(str)\n",
        "    train[feature] = encoders[feature].fit_transform(train[feature])\n",
        "    test[feature] = encoders[feature].transform(test[feature])\n",
        "\n",
        "# [4] 불리언 처리\n",
        "bool_map = {'Yes': 1, 'No': 0}\n",
        "for feature in bool_features:\n",
        "    train[feature] = train[feature].map(bool_map)\n",
        "    test[feature] = test[feature].map(bool_map)\n",
        "\n",
        "# [5] 기업가치 수치화\n",
        "train['기업가치(중간값)'] = train['기업가치(백억원)'].apply(parse_value_range)\n",
        "test['기업가치(중간값)'] = test['기업가치(백억원)'].apply(parse_value_range)\n",
        "\n",
        "# [6] 수치형 결측값 처리\n",
        "all_numeric_features = numeric_features + ['기업가치(중간값)']\n",
        "for feature in all_numeric_features:\n",
        "    mean_value = train[feature].mean()\n",
        "    train[feature] = train[feature].fillna(mean_value)\n",
        "    test[feature] = test[feature].fillna(mean_value)\n",
        "\n",
        "# [7] 파생 변수 생성 함수\n",
        "def create_derived_features(df):\n",
        "    df = df.copy()\n",
        "    df['직원 1인당 매출'] = df['연매출(억원)'] / df['직원 수']\n",
        "    df['고객 1인당 매출'] = df['연매출(억원)'] / df['고객수(백만명)']\n",
        "    df['고객 1인당 투자금'] = df['총 투자금(억원)'] / df['고객수(백만명)']\n",
        "    df['투자 대비 가치'] = df['기업가치(중간값)'] / df['총 투자금(억원)']\n",
        "    df['SNS비율'] = df['SNS 팔로워 수(백만명)'] / df['고객수(백만명)']\n",
        "    df.fillna(0, inplace=True)\n",
        "    return df\n",
        "\n",
        "train = create_derived_features(train)\n",
        "test = create_derived_features(test)\n",
        "\n",
        "# [8] TabNet 입력용 feature 설정\n",
        "features = [col for col in train.columns if col != '성공확률']\n",
        "cat_idxs = [features.index(col) for col in category_features]\n",
        "cat_dims = [train[col].nunique() for col in category_features]\n"
      ],
      "metadata": {
        "colab": {
          "base_uri": "https://localhost:8080/"
        },
        "id": "9pb7RHp1fZF6",
        "outputId": "2b8545f3-9e63-46d8-c9d0-16c8ba6299c8"
      },
      "execution_count": 11,
      "outputs": [
        {
          "output_type": "stream",
          "name": "stderr",
          "text": [
            "<ipython-input-11-c51648da89ba>:22: FutureWarning: Downcasting object dtype arrays on .fillna, .ffill, .bfill is deprecated and will change in a future version. Call result.infer_objects(copy=False) instead. To opt-in to the future behavior, set `pd.set_option('future.no_silent_downcasting', True)`\n",
            "  train[feature] = train[feature].fillna('Missing').astype(str)\n",
            "<ipython-input-11-c51648da89ba>:23: FutureWarning: Downcasting object dtype arrays on .fillna, .ffill, .bfill is deprecated and will change in a future version. Call result.infer_objects(copy=False) instead. To opt-in to the future behavior, set `pd.set_option('future.no_silent_downcasting', True)`\n",
            "  test[feature] = test[feature].fillna('Missing').astype(str)\n"
          ]
        }
      ]
    },
    {
      "cell_type": "markdown",
      "metadata": {
        "id": "iopJKF0fMoWe"
      },
      "source": [
        "# K-Fold Model Training"
      ]
    },
    {
      "cell_type": "code",
      "execution_count": null,
      "metadata": {
        "colab": {
          "base_uri": "https://localhost:8080/"
        },
        "id": "KsnKYETaMoWe",
        "outputId": "05c2c3f3-6b9f-480f-d876-517fd5f9f203"
      },
      "outputs": [
        {
          "output_type": "stream",
          "name": "stdout",
          "text": [
            "\n",
            "🔁 Fold 1/5\n",
            "▶ Pretraining...\n"
          ]
        },
        {
          "output_type": "stream",
          "name": "stderr",
          "text": [
            "/usr/local/lib/python3.11/dist-packages/pytorch_tabnet/abstract_model.py:687: UserWarning: No early stopping will be performed, last training weights will be used.\n",
            "  warnings.warn(wrn_msg)\n"
          ]
        }
      ],
      "source": [
        "# 타겟 지정\n",
        "target = train['성공확률']\n",
        "X = train[features]\n",
        "y = target\n",
        "\n",
        "# KFold 설정\n",
        "N_FOLDS = 5\n",
        "kf = KFold(n_splits=N_FOLDS, shuffle=True, random_state=42)\n",
        "\n",
        "models = [] # 모델 저장 리스트\n",
        "cv_scores = []\n",
        "\n",
        "for fold, (train_idx, valid_idx) in enumerate(kf.split(X)):\n",
        "    print(f\"\\n🔁 Fold {fold+1}/{N_FOLDS}\")\n",
        "\n",
        "    X_train = X.iloc[train_idx].values\n",
        "    y_train = y.iloc[train_idx].values.reshape(-1, 1)\n",
        "\n",
        "    X_valid = X.iloc[valid_idx].values\n",
        "    y_valid = y.iloc[valid_idx].values.reshape(-1, 1)\n",
        "\n",
        "    # 비지도 사전학습\n",
        "    print(\"▶ Pretraining...\")\n",
        "\n",
        "    pretrainer = TabNetPretrainer(\n",
        "        cat_idxs=cat_idxs,\n",
        "        cat_dims=cat_dims,\n",
        "        seed=42,\n",
        "        verbose=0\n",
        "    )\n",
        "\n",
        "    pretrainer.fit(\n",
        "        X_train=X_train,\n",
        "        max_epochs=100,\n",
        "        batch_size=512,\n",
        "        virtual_batch_size=64\n",
        "    )\n",
        "\n",
        "\n",
        "    # 지도 학습\n",
        "    print(\"▶ Fine-tuning...\")\n",
        "    model = TabNetRegressor(\n",
        "        n_d=32,\n",
        "        n_a=32,\n",
        "        n_steps=5,\n",
        "        gamma=1.5,\n",
        "        lambda_sparse=1e-4,\n",
        "        optimizer_fn=torch.optim.AdamW,\n",
        "        optimizer_params=dict(lr=2e-2),\n",
        "        seed=42,\n",
        "        verbose=0\n",
        "    )\n",
        "\n",
        "    model.fit(\n",
        "        X_train=X_train, y_train=y_train,\n",
        "        eval_set=[(X_valid, y_valid)],\n",
        "        from_unsupervised=pretrainer,\n",
        "        eval_metric=['mae'],\n",
        "        max_epochs=100,\n",
        "        patience=10\n",
        "    )\n",
        "\n",
        "    # 모델을 메모리에 저장\n",
        "    models.append(model)\n",
        "    cv_scores.append(model.best_cost)\n",
        "\n",
        "print(\"\\n✅ 모든 fold 모델 학습 완료!\")\n",
        "\n",
        "\n",
        "# Fold별 성능 평가\n",
        "all_mae, all_rmse, all_r2 = [], [], []\n",
        "\n",
        "for fold, (train_idx, valid_idx) in enumerate(kf.split(X)):\n",
        "    X_valid = X.iloc[valid_idx].values\n",
        "    y_valid = y.iloc[valid_idx].values.reshape(-1, 1)\n",
        "\n",
        "    preds = models[fold].predict(X_valid)\n",
        "\n",
        "    mae = mean_absolute_error(y_valid, preds)\n",
        "    mse = mean_squared_error(y_valid, preds)\n",
        "    rmse = np.sqrt(mse)\n",
        "    r2 = r2_score(y_valid, preds)\n",
        "\n",
        "    print(f\"Fold {fold+1}: MAE = {mae:.4f}, RMSE = {rmse:.4f}, R² = {r2:.4f}\")\n",
        "    all_mae.append(mae)\n",
        "    all_rmse.append(rmse)\n",
        "    all_r2.append(r2)\n",
        "\n",
        "# 전체 평균 출력\n",
        "print(\"\\n📊 Overall Performance:\")\n",
        "print(f\"Average MAE  : {np.mean(all_mae):.4f}\")\n",
        "print(f\"Average RMSE : {np.mean(all_rmse):.4f}\")\n",
        "print(f\"Average R²   : {np.mean(all_r2):.4f}\")"
      ]
    },
    {
      "cell_type": "markdown",
      "metadata": {
        "id": "vbq9h6bnMoWe"
      },
      "source": [
        "# K-Fold Model Prediction"
      ]
    },
    {
      "cell_type": "code",
      "execution_count": 9,
      "metadata": {
        "colab": {
          "base_uri": "https://localhost:8080/"
        },
        "id": "ei4jGC2xMoWe",
        "outputId": "1fb2537f-d45b-4751-9cad-3967fe9e45a2"
      },
      "outputs": [
        {
          "output_type": "stream",
          "name": "stdout",
          "text": [
            "Predict with fold 1\n",
            "Predict with fold 2\n",
            "Predict with fold 3\n",
            "Predict with fold 4\n",
            "Predict with fold 5\n",
            "[[0.5266214 ]\n",
            " [0.54752624]\n",
            " [0.56245315]\n",
            " ...\n",
            " [0.56448543]\n",
            " [0.5250262 ]\n",
            " [0.55547893]]\n"
          ]
        }
      ],
      "source": [
        "# 저장된 모델들로 예측\n",
        "predictions_list = []\n",
        "\n",
        "for fold, model in enumerate(models):\n",
        "    print(f\"Predict with fold {fold+1}\")\n",
        "    preds = model.predict(test[features].values)\n",
        "    predictions_list.append(preds)\n",
        "\n",
        "# 평균 예측\n",
        "final_predictions = np.mean(predictions_list, axis=0)\n",
        "print(final_predictions)"
      ]
    },
    {
      "cell_type": "markdown",
      "metadata": {
        "id": "KIsUuRs8MoWf"
      },
      "source": [
        "# Submission"
      ]
    },
    {
      "cell_type": "code",
      "execution_count": null,
      "metadata": {
        "id": "gY967rWjMoWf"
      },
      "outputs": [],
      "source": [
        "sample_submission['성공확률'] = final_predictions\n",
        "sample_submission.to_csv('./baseline_submission.csv', index = False, encoding = 'utf-8-sig')"
      ]
    }
  ],
  "metadata": {
    "kernelspec": {
      "display_name": "seohee3",
      "language": "python",
      "name": "python3"
    },
    "language_info": {
      "codemirror_mode": {
        "name": "ipython",
        "version": 3
      },
      "file_extension": ".py",
      "mimetype": "text/x-python",
      "name": "python",
      "nbconvert_exporter": "python",
      "pygments_lexer": "ipython3",
      "version": "3.8.17"
    },
    "colab": {
      "provenance": []
    }
  },
  "nbformat": 4,
  "nbformat_minor": 0
}